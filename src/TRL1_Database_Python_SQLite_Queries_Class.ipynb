{
 "cells": [
  {
   "cell_type": "code",
   "execution_count": 1,
   "metadata": {},
   "outputs": [],
   "source": [
    "import sqlite3 as sql\n",
    "import pandas as pd"
   ]
  },
  {
   "cell_type": "code",
   "execution_count": 2,
   "metadata": {},
   "outputs": [],
   "source": [
    "class sqlite_con_queries_inserts:\n",
    "    # Cursor is now created with class\n",
    "    def __init__(self, path, queries):\n",
    "        self.path = path\n",
    "        self.connection = self.create_connection()\n",
    "        self.cursor = self.connection.cursor()\n",
    "        self.queries = queries\n",
    "\n",
    "    # Connection function\n",
    "    def create_connection(self):\n",
    "        connection = None\n",
    "        try:\n",
    "            connection = sql.connect(self.path)\n",
    "            print(\"Connection to SQLite DB successful\")\n",
    "        except sql.Error as e:\n",
    "            print(f\"The error '{e}' occurred\")\n",
    "        return connection\n",
    "\n",
    "    # Query function inputting cursor with a list of queries.\n",
    "    def execute_query(self, data=None, print_message=True):\n",
    "        try:\n",
    "            for query in self.queries:\n",
    "                if data:\n",
    "                    self.cursor.execute(query, data)\n",
    "                else:\n",
    "                    self.cursor.execute(query)\n",
    "            # Commit only if all statements succeeded\n",
    "            self.cursor.connection.commit()\n",
    "            if print_message:\n",
    "                print(\"Queries executed successfully\")\n",
    "        except sql.Error as e:\n",
    "            print(\"An error occurred:\", e)\n",
    "            # Rollback the transaction in case of error\n",
    "            self.cursor.connection.rollback()\n",
    "    \n",
    "    # Inerts static function\n",
    "    @staticmethod\n",
    "    def execute_inserts(table, query, path):\n",
    "        # Convert DataFrame rows to list of dictionaries\n",
    "        my_list = table.to_dict(orient='records')\n",
    "        # Iterate through the list of dictionaries and insert data\n",
    "        for row in my_list:\n",
    "            try:\n",
    "                sqlite_con_queries_inserts(path, query).execute_query(data=row, print_message=False)\n",
    "            except sql.Error as e:\n",
    "                print(\"An error occurred:\", e)\n",
    "        print(\"Insert query executed successfully\")"
   ]
  },
  {
   "cell_type": "markdown",
   "metadata": {},
   "source": [
    "# Inserting Initial 6 Tables"
   ]
  },
  {
   "cell_type": "code",
   "execution_count": null,
   "metadata": {},
   "outputs": [],
   "source": [
    "# CREATE TABLE queries in related order\n",
    "create_table_queries = [\n",
    "\"\"\"\n",
    "CREATE TABLE IF NOT EXISTS airliners (\n",
    "  airline_id VARCHAR PRIMARY KEY,\n",
    "  name VARCHAR,\n",
    "  location_country VARCHAR,\n",
    "  location_region VARCHAR,\n",
    "  location_city VARCHAR\n",
    ");\n",
    "\"\"\",\n",
    "\"\"\"\n",
    "CREATE TABLE IF NOT EXISTS suppliers (\n",
    "  company_id VARCHAR PRIMARY KEY,\n",
    "  name VARCHAR NOT NULL,\n",
    "  location_country VARCHAR,\n",
    "  location_region VARCHAR,\n",
    "  location_city VARCHAR,\n",
    "  global_ife_share_billions_2022 FLOAT,\n",
    "  revenue_billions_2019 FLOAT,\n",
    "  revenue_estimate_billions FLOAT,\n",
    "  strengths VARCHAR,\n",
    "  weaknesses VARCHAR,\n",
    "  opportunities VARCHAR,\n",
    "  threats VARCHAR\n",
    ");\n",
    "\"\"\",\n",
    "\"\"\"\n",
    "CREATE TABLE IF NOT EXISTS software_supplier (\n",
    "  software_id VARCHAR PRIMARY KEY,\n",
    "  company_id VARCHAR,\n",
    "  co_company_id VARCHAR,\n",
    "  apps_features VARCHAR,\n",
    "  FOREIGN KEY (company_id) REFERENCES suppliers(company_id)\n",
    ");\n",
    "\"\"\",\n",
    "\"\"\"\n",
    "CREATE TABLE IF NOT EXISTS hardware_supplier (\n",
    "  hardware_id VARCHAR PRIMARY KEY,\n",
    "  company_id VARCHAR,\n",
    "  co_company_id VARCHAR,\n",
    "  about VARCHAR,\n",
    "  FOREIGN KEY (company_id) REFERENCES suppliers(company_id)\n",
    ");\n",
    "\"\"\",\n",
    "\"\"\"\n",
    "CREATE TABLE IF NOT EXISTS airline_software_relation (\n",
    "  relation_id VARCHAR PRIMARY KEY,\n",
    "  airline_id VARCHAR,\n",
    "  software_id VARCHAR,\n",
    "  relation_description VARCHAR,\n",
    "  date TIMESTAMP,\n",
    "  FOREIGN KEY (airline_id) REFERENCES airliners(airline_id),\n",
    "  FOREIGN KEY (software_id) REFERENCES software(software_id)\n",
    ");\n",
    "\"\"\",\n",
    "\"\"\"\n",
    "CREATE TABLE IF NOT EXISTS airline_hardware_relation (\n",
    "  relation_id VARCHAR PRIMARY KEY,\n",
    "  airline_id VARCHAR,\n",
    "  hardware_id VARCHAR,\n",
    "  relation_description VARCHAR,\n",
    "  date TIMESTAMP,\n",
    "  FOREIGN KEY (airline_id) REFERENCES airliners(airline_id),\n",
    "  FOREIGN KEY (hardware_id) REFERENCES hardware(hardware_id)\n",
    ");\n",
    "\"\"\"\n",
    "]\n",
    "path = 'TRL1_Database.sqlite'\n",
    "queries = create_table_queries\n",
    "# Call the function to create the tables\n",
    "sqlite_con_queries_inserts(path, queries).execute_query()"
   ]
  },
  {
   "cell_type": "code",
   "execution_count": null,
   "metadata": {},
   "outputs": [],
   "source": [
    "# To remove the table, you have to:\n",
    "#     Disable foreign key constraints.\n",
    "#     Drop the table.\n",
    "#     Update the FKs in the connecting tables to NULL values.\n",
    "#     Enable the foreign key constraints.\n",
    "\n",
    "# See the following statements:\n",
    "\n",
    "\"\"\"\n",
    "PRAGMA foreign_keys = OFF;\n",
    "\n",
    "DROP TABLE table_name;\n",
    "\n",
    "UPDATE connecting_table\n",
    "SET foreign_key_name = NULL;\n",
    "\n",
    "PRAGMA foreign_keys = ON;\n",
    "\"\"\""
   ]
  },
  {
   "cell_type": "markdown",
   "metadata": {},
   "source": [
    "# Inserting Airliners Table"
   ]
  },
  {
   "cell_type": "code",
   "execution_count": null,
   "metadata": {},
   "outputs": [],
   "source": [
    "airliner_db = pd.read_excel('QIS_TRL1_DB.xlsx', sheet_name='Airliners', index_col=None)\n",
    "airliner_db = airliner_db.rename(columns={\"Airliner ID\": \"airline_id\", \n",
    "                            \"Name\": \"name\", \n",
    "                            \"Location (Country)\": \"location_country\",\n",
    "                            \"Location (Province/State/Region)\": \"location_region\",\n",
    "                            \"Location (City)\": \"location_city\"})\n",
    "airliner_db"
   ]
  },
  {
   "cell_type": "code",
   "execution_count": null,
   "metadata": {},
   "outputs": [],
   "source": [
    "table = airliner_db\n",
    "# The column names in the airliner_db are renamed to match the tables in SQLite.\n",
    "insert_stations = [\n",
    "\"\"\"\n",
    "INSERT INTO\n",
    "  airliners (airline_id, name, location_country, location_region, location_city)\n",
    "VALUES\n",
    "  (:airline_id, :name, :location_country, :location_region, :location_city);\n",
    "\"\"\"\n",
    "]\n",
    "query = insert_stations\n",
    "\n",
    "path = 'TRL1_Database.sqlite'\n",
    "# Execute function to insert values from Pandas database into SQLite.\n",
    "sqlite_con_queries_inserts.execute_inserts(table, query, path)"
   ]
  },
  {
   "cell_type": "markdown",
   "metadata": {},
   "source": [
    "# Inserting Supplier Company Table"
   ]
  },
  {
   "cell_type": "code",
   "execution_count": null,
   "metadata": {},
   "outputs": [],
   "source": [
    "airliner_db = pd.read_excel('QIS_TRL1_DB.xlsx', sheet_name='Supplier Company', index_col=None)\n",
    "airliner_db = airliner_db.rename(columns={\"Company ID\": \"company_id\", \n",
    "                            \"Name\": \"name\", \n",
    "                            \"Location (Country)\": \"location_country\",\n",
    "                            \"Location (Province/State/Region)\": \"location_region\",\n",
    "                            \"Location (City)\": \"location_city\",\n",
    "                            \"Global Share in IFE & Connectivity Market 2022 (billion USD)\": \"global_ife_share_billions_2022\",\n",
    "                            \"Overall Revenue 2019 (billion USD)\": \"revenue_billions_2019\",\n",
    "                            \"Overall Annual Revenue (Rough Estimate) (billion USD)\": \"revenue_estimate_billions\",\n",
    "                            \"Strengths\": \"strengths\",\n",
    "                            \"Weaknesses\": \"weaknesses\", \n",
    "                            \"Opportunities\": \"opportunities\",\n",
    "                            \"Threats\": \"threats\"})\n",
    "airliner_db"
   ]
  },
  {
   "cell_type": "code",
   "execution_count": null,
   "metadata": {},
   "outputs": [],
   "source": [
    "table = airliner_db\n",
    "# The column names in the airliner_db are renamed to match the tables in SQLite.\n",
    "insert_stations = [\n",
    "\"\"\"\n",
    "INSERT INTO\n",
    "  suppliers (company_id, name, location_country, location_region, location_city, global_ife_share_billions_2022, revenue_billions_2019, revenue_estimate_billions, strengths, weaknesses, opportunities, threats)\n",
    "VALUES\n",
    "  (:company_id, name, :location_country, :location_region, :location_city, :global_ife_share_billions_2022, :revenue_billions_2019, :revenue_estimate_billions, :strengths, :weaknesses, :opportunities, :threats);\n",
    "\"\"\"\n",
    "]\n",
    "query = insert_stations\n",
    "\n",
    "path = 'TRL1_Database.sqlite'\n",
    "# Execute function to insert values from Pandas database into SQLite.\n",
    "sqlite_con_queries_inserts.execute_inserts(table, query, path)"
   ]
  },
  {
   "cell_type": "markdown",
   "metadata": {},
   "source": [
    "# Inserting the Company Supplying Software Table"
   ]
  },
  {
   "cell_type": "code",
   "execution_count": null,
   "metadata": {},
   "outputs": [],
   "source": [
    "airliner_db = pd.read_excel('QIS_TRL1_DB.xlsx', sheet_name='Company Supplying Software', index_col=None)\n",
    "airliner_db = airliner_db.rename(columns={\"Software ID\": \"software_id\",\n",
    "                            \"Company ID\": \"company_id\",\n",
    "                            \"Co-Company ID (if applicable)\": \"co_company_id\",\n",
    "                            \"Apps/Features\": \"apps_features\"})\n",
    "airliner_db"
   ]
  },
  {
   "cell_type": "code",
   "execution_count": null,
   "metadata": {},
   "outputs": [],
   "source": [
    "table = airliner_db\n",
    "# The column names in the airliner_db are renamed to match the tables in SQLite.\n",
    "insert_stations = [\n",
    "\"\"\"\n",
    "INSERT INTO\n",
    "  software_supplier (software_id, company_id, co_company_id, apps_features)\n",
    "VALUES\n",
    "  (:software_id, :company_id, :co_company_id, :apps_features);\n",
    "\"\"\"\n",
    "]\n",
    "query = insert_stations\n",
    "\n",
    "path = 'TRL1_Database.sqlite'\n",
    "# Execute function to insert values from Pandas database into SQLite.\n",
    "sqlite_con_queries_inserts.execute_inserts(table, query, path)"
   ]
  },
  {
   "cell_type": "markdown",
   "metadata": {},
   "source": [
    "# Inserting the Airline Software Relation Table"
   ]
  },
  {
   "cell_type": "code",
   "execution_count": null,
   "metadata": {},
   "outputs": [],
   "source": [
    "airliner_db = pd.read_excel('QIS_TRL1_DB.xlsx', sheet_name='Airline Software Relation', index_col=None)\n",
    "airliner_db = airliner_db.rename(columns={\"Relation ID\": \"relation_id\",\n",
    "                            \"Airliner ID\": \"airline_id\",\n",
    "                            \"Software ID\": \"software_id\",\n",
    "                            \"Relation Description\": \"relation_description\", \n",
    "                            \"Date\": \"date\"})\n",
    "airliner_db[\"date\"] = pd.to_datetime(airliner_db[\"date\"], format='%Y-%m-%d', errors='coerce')\n",
    "# If cannont import the date, convert it to a string\n",
    "airliner_db[\"date\"] = airliner_db[\"date\"].dt.date\n",
    "print(airliner_db.dtypes)\n",
    "airliner_db"
   ]
  },
  {
   "cell_type": "code",
   "execution_count": null,
   "metadata": {},
   "outputs": [],
   "source": [
    "table = airliner_db\n",
    "# The column names in the airliner_db are renamed to match the tables in SQLite.\n",
    "insert_stations = [\n",
    "\"\"\"\n",
    "INSERT INTO\n",
    "  airline_software_relation (relation_id, airline_id, software_id, relation_description, date)\n",
    "VALUES\n",
    "  (:relation_id, :airline_id, :software_id, :relation_description, :date);\n",
    "\"\"\"\n",
    "]\n",
    "query = insert_stations\n",
    "\n",
    "path = 'TRL1_Database.sqlite'\n",
    "# Execute function to insert values from Pandas database into SQLite.\n",
    "sqlite_con_queries_inserts.execute_inserts(table, query, path)"
   ]
  },
  {
   "cell_type": "markdown",
   "metadata": {},
   "source": [
    "# Inserting the Company Supplying Hardware Table"
   ]
  },
  {
   "cell_type": "code",
   "execution_count": null,
   "metadata": {},
   "outputs": [],
   "source": [
    "airliner_db = pd.read_excel('QIS_TRL1_DB.xlsx', sheet_name='Company Supplying Hardware', index_col=None)\n",
    "airliner_db = airliner_db.rename(columns={\"Hardware ID\": \"hardware_id\",\n",
    "                            \"Company ID\": \"company_id\",\n",
    "                            \"Co-Company ID (if applicable)\": \"co_company_id\",\n",
    "                            \"About\": \"about\"})\n",
    "airliner_db"
   ]
  },
  {
   "cell_type": "code",
   "execution_count": null,
   "metadata": {},
   "outputs": [],
   "source": [
    "table = airliner_db\n",
    "# The column names in the airliner_db are renamed to match the tables in SQLite.\n",
    "insert_stations = [\n",
    "\"\"\"\n",
    "INSERT INTO\n",
    "  hardware_supplier (hardware_id, company_id, co_company_id, about)\n",
    "VALUES\n",
    "  (:hardware_id, :company_id, :co_company_id, :about);\n",
    "\"\"\"\n",
    "]\n",
    "query = insert_stations\n",
    "\n",
    "path = 'TRL1_Database.sqlite'\n",
    "# Execute function to insert values from Pandas database into SQLite.\n",
    "sqlite_con_queries_inserts.execute_inserts(table, query, path)"
   ]
  },
  {
   "cell_type": "markdown",
   "metadata": {},
   "source": [
    "# Inserting the Airline Hardware Relation Table"
   ]
  },
  {
   "cell_type": "code",
   "execution_count": null,
   "metadata": {},
   "outputs": [],
   "source": [
    "airliner_db = pd.read_excel('QIS_TRL1_DB.xlsx', sheet_name='Airline Hardware Relation', index_col=None)\n",
    "airliner_db = airliner_db.rename(columns={\"Relation ID\": \"relation_id\",\n",
    "                            \"Airliner ID\": \"airline_id\",\n",
    "                            \"Hardware ID\": \"hardware_id\",\n",
    "                            \"Relation Description\": \"relation_description\", \n",
    "                            \"Date\": \"date\"})\n",
    "airliner_db[\"date\"] = pd.to_datetime(airliner_db[\"date\"], format='%Y-%m-%d', errors='coerce')\n",
    "# If cannont import the date, convert it to a string\n",
    "airliner_db[\"date\"] = airliner_db[\"date\"].dt.strftime('% d % m % Y')\n",
    "print(airliner_db.dtypes)\n",
    "airliner_db"
   ]
  },
  {
   "cell_type": "code",
   "execution_count": null,
   "metadata": {},
   "outputs": [],
   "source": [
    "table = airliner_db\n",
    "# The column names in the airliner_db are renamed to match the tables in SQLite.\n",
    "insert_stations = [\n",
    "\"\"\"\n",
    "INSERT INTO\n",
    "  airline_hardware_relation (relation_id, airline_id, hardware_id, relation_description, date)\n",
    "VALUES\n",
    "  (:relation_id, :airline_id, :hardware_id, :relation_description, :date);\n",
    "\"\"\"\n",
    "]\n",
    "query = insert_stations\n",
    "\n",
    "path = 'TRL1_Database.sqlite'\n",
    "# Execute function to insert values from Pandas database into SQLite.\n",
    "sqlite_con_queries_inserts.execute_inserts(table, query, path)"
   ]
  },
  {
   "cell_type": "markdown",
   "metadata": {},
   "source": [
    "# Inserting the Airline Aircraft Entertainment Score Table"
   ]
  },
  {
   "cell_type": "code",
   "execution_count": null,
   "metadata": {},
   "outputs": [],
   "source": [
    "# CREATE TABLE query\n",
    "create_table_queries = [\n",
    "\"\"\"\n",
    "CREATE TABLE IF NOT EXISTS aircraft_and_entertainment (\n",
    "  index_id VARCHAR PRIMARY KEY,\n",
    "  airline_id VARCHAR,\n",
    "  airline_name VARCHAR,\n",
    "  aircraft VARCHAR,\n",
    "  ent_score_count FLOAT,\n",
    "  ent_score_mean FLOAT,\n",
    "  ent_score_std FLOAT,\n",
    "  ent_score_min FLOAT,\n",
    "  ent_score_q1 FLOAT,\n",
    "  ent_score_med FLOAT,\n",
    "  ent_score_q3 FLOAT,\n",
    "  ent_score_max FLOAT,\n",
    "  FOREIGN KEY (airline_id) REFERENCES airliners(airline_id)\n",
    ");\n",
    "\"\"\"\n",
    "]\n",
    "path = 'TRL1_Database.sqlite'\n",
    "queries = create_table_queries\n",
    "# Call the function to create the tables\n",
    "sqlite_con_queries_inserts(path, queries).execute_query()"
   ]
  },
  {
   "cell_type": "code",
   "execution_count": null,
   "metadata": {},
   "outputs": [],
   "source": [
    "airliner_db = pd.read_excel('QIS_TRL1_DB.xlsx', sheet_name='Airline Aircraft Ent. Score', index_col=None)\n",
    "airliner_db = airliner_db.rename(columns={\"ent_score_25%\": \"ent_score_q1\",\n",
    "                            \"ent_score_50%\": \"ent_score_med\",\n",
    "                            \"ent_score_75%\": \"ent_score_q3\"})\n",
    "airliner_db"
   ]
  },
  {
   "cell_type": "code",
   "execution_count": null,
   "metadata": {},
   "outputs": [],
   "source": [
    "table = airliner_db\n",
    "# The column names in the airliner_db are renamed to match the tables in SQLite.\n",
    "insert_stations = [\n",
    "\"\"\"\n",
    "INSERT INTO\n",
    "  aircraft_and_entertainment (index_id, airline_id, airline_name, aircraft, ent_score_count, ent_score_mean, ent_score_std, ent_score_min, ent_score_q1, ent_score_med, ent_score_q3, ent_score_max)\n",
    "VALUES\n",
    "  (:index_id, :airline_id, :airline_name, :aircraft, :ent_score_count, :ent_score_mean, :ent_score_std, :ent_score_min, :ent_score_q1, :ent_score_med, :ent_score_q3, :ent_score_max);\n",
    "\"\"\"\n",
    "]\n",
    "query = insert_stations\n",
    "\n",
    "path = 'TRL1_Database.sqlite'\n",
    "# Execute function to insert values from Pandas database into SQLite.\n",
    "sqlite_con_queries_inserts.execute_inserts(table, query, path)"
   ]
  },
  {
   "cell_type": "markdown",
   "metadata": {},
   "source": [
    "# Inserting Competitors Table"
   ]
  },
  {
   "cell_type": "code",
   "execution_count": null,
   "metadata": {},
   "outputs": [],
   "source": [
    "# CREATE TABLE query\n",
    "create_table_queries = [\n",
    "\"\"\"\n",
    "CREATE TABLE IF NOT EXISTS competitors (\n",
    "  competition_id VARCHAR PRIMARY KEY,\n",
    "  primary_company_id VARCHAR,\n",
    "  competitor_id VARCHAR,\n",
    "  FOREIGN KEY (primary_company_id) REFERENCES suppliers(company_id),\n",
    "  FOREIGN KEY (competitor_id) REFERENCES suppliers(company_id)\n",
    ");\n",
    "\"\"\"\n",
    "]\n",
    "path = 'TRL1_Database.sqlite'\n",
    "queries = create_table_queries\n",
    "# Call the function to create the tables\n",
    "sqlite_con_queries_inserts(path, queries).execute_query()"
   ]
  },
  {
   "cell_type": "code",
   "execution_count": null,
   "metadata": {},
   "outputs": [],
   "source": [
    "airliner_db = pd.read_excel('QIS_TRL1_DB.xlsx', sheet_name='Competitors', index_col=None)\n",
    "airliner_db = airliner_db.rename(columns={\"Competition ID\": \"competition_id\", \n",
    "                            \"Primary Company ID\": \"primary_company_id\", \n",
    "                            \"Competitor ID\": \"competitor_id\"})\n",
    "airliner_db = airliner_db[['competition_id', 'primary_company_id', 'competitor_id']]\n",
    "airliner_db"
   ]
  },
  {
   "cell_type": "code",
   "execution_count": null,
   "metadata": {},
   "outputs": [],
   "source": [
    "table = airliner_db\n",
    "# The column names in the airliner_db are renamed to match the tables in SQLite.\n",
    "insert_stations = [\n",
    "\"\"\"\n",
    "INSERT INTO\n",
    "  competitors (competition_id, primary_company_id, competitor_id)\n",
    "VALUES\n",
    "  (:competition_id, :primary_company_id, :competitor_id);\n",
    "\"\"\"\n",
    "]\n",
    "query = insert_stations\n",
    "\n",
    "path = 'TRL1_Database.sqlite'\n",
    "# Execute function to insert values from Pandas database into SQLite.\n",
    "sqlite_con_queries_inserts.execute_inserts(table, query, path)"
   ]
  },
  {
   "cell_type": "markdown",
   "metadata": {},
   "source": [
    "# Inserting Wifi Availability Table"
   ]
  },
  {
   "cell_type": "code",
   "execution_count": null,
   "metadata": {},
   "outputs": [],
   "source": [
    "# CREATE TABLE query\n",
    "create_table_queries = [\n",
    "\"\"\"\n",
    "CREATE TABLE IF NOT EXISTS wifi_availability (\n",
    "  wifi_id VARCHAR PRIMARY KEY,\n",
    "  airline_id VARCHAR,\n",
    "  payment_plan VARCHAR,\n",
    "  aircraft_availability VARCHAR,\n",
    "  minimum_price_usd FLOAT,\n",
    "  maximum_price_usd FLOAT,\n",
    "  expenditure_by_airline_billion_usd FLOAT,\n",
    "  FOREIGN KEY (airline_id) REFERENCES airliners(airline_id)\n",
    ");\n",
    "\"\"\"\n",
    "]\n",
    "path = 'TRL1_Database.sqlite'\n",
    "queries = create_table_queries\n",
    "# Call the function to create the tables\n",
    "sqlite_con_queries_inserts(path, queries).execute_query()"
   ]
  },
  {
   "cell_type": "code",
   "execution_count": null,
   "metadata": {},
   "outputs": [],
   "source": [
    "airliner_db = pd.read_excel('QIS_TRL1_DB.xlsx', sheet_name='Wifi Availability', index_col=None)\n",
    "airliner_db = airliner_db.rename(columns={\"Wifi ID\": \"wifi_id\", \n",
    "                            \"Airline ID\": \"airline_id\",\n",
    "                            \"Payment Plan\": \"payment_plan\",\n",
    "                            \"Aircraft Availability\": \"aircraft_availability\",\n",
    "                            \"Minimum Price (USD)\": \"minimum_price_usd\",\n",
    "                            \"Maximum Price (USD)\": \"maximum_price_usd\",\n",
    "                            \"Expenditure by Airline (billion USD)\": \"expenditure_by_airline_billion_usd\"})\n",
    "airliner_db = airliner_db[['competition_id', 'primary_company_id', 'competitor_id']]\n",
    "airliner_db"
   ]
  },
  {
   "cell_type": "code",
   "execution_count": null,
   "metadata": {},
   "outputs": [],
   "source": [
    "table = airliner_db\n",
    "# The column names in the airliner_db are renamed to match the tables in SQLite.\n",
    "insert_stations = [\n",
    "\"\"\"\n",
    "INSERT INTO\n",
    "  competitors (wifi_id, airline_id, payment_plan, aircraft_availability, minimum_price_usd, maximum_price_usd, expenditure_by_airline_billion_usd)\n",
    "VALUES\n",
    "  (:wifi_id, :airline_id, :payment_plan, :aircraft_availability, :minimum_price_usd, :maximum_price_usd, :expenditure_by_airline_billion_usd);\n",
    "\"\"\"\n",
    "]\n",
    "query = insert_stations\n",
    "\n",
    "path = 'TRL1_Database.sqlite'\n",
    "# Execute function to insert values from Pandas database into SQLite.\n",
    "sqlite_con_queries_inserts.execute_inserts(table, query, path)"
   ]
  }
 ],
 "metadata": {
  "kernelspec": {
   "display_name": "base",
   "language": "python",
   "name": "python3"
  },
  "language_info": {
   "codemirror_mode": {
    "name": "ipython",
    "version": 3
   },
   "file_extension": ".py",
   "mimetype": "text/x-python",
   "name": "python",
   "nbconvert_exporter": "python",
   "pygments_lexer": "ipython3",
   "version": "3.9.13"
  }
 },
 "nbformat": 4,
 "nbformat_minor": 2
}
