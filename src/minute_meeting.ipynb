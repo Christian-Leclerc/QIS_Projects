{
 "cells": [
  {
   "cell_type": "code",
   "execution_count": 1,
   "metadata": {},
   "outputs": [],
   "source": [
    "from docx import Document\n",
    "from datetime import datetime"
   ]
  },
  {
   "cell_type": "code",
   "execution_count": 3,
   "metadata": {},
   "outputs": [],
   "source": [
    "\n",
    "# Create a new Document\n",
    "doc = Document()\n",
    "\n",
    "# Add a title\n",
    "title = doc.add_heading('Minutes of the Weekly Meeting', level=0)\n",
    "title.alignment = 1  # Center align\n",
    "\n",
    "# Add the date\n",
    "date = datetime.now().strftime(\"%Y-%m-%d %H:%M\")\n",
    "doc.add_paragraph(f'Date: {date}')\n",
    "\n",
    "# Add the meeting details\n",
    "meeting_details = [\n",
    "    \"Meeting Duration: 1 hour\",\n",
    "    \"Attendees:\",\n",
    "    \"- Bryan\",\n",
    "    \"- Christian\",\n",
    "    \"- Jessica\",\n",
    "    \"- Jocelyn\",\n",
    "    \"- Linda\",\n",
    "    \"- Mike\",\n",
    "    \"- Ali (Absent)\",\n",
    "    \"- Bhavna (Absent)\",\n",
    "    \"Agenda:\",\n",
    "    \"- Weekly Meeting schedule\",\n",
    "    \"- Topics sharing and attribution\",\n",
    "    \"- Student presentations\",\n",
    "    \"- Database explanation\",\n",
    "    \"- Structure of Google Drive\",\n",
    "    \"Action Items:\",\n",
    "    \"- Change weekly meeting to Mondays 12:00 to 13:00 MST (Christian)\",\n",
    "    \"- Jocelyn to take remaining topics and help Jessica with Software (Jocelyn and Jessica)\",\n",
    "    \"- Setup 1-on-1 with Jocelyn today 12:00 MST (christian)\",\n",
    "    \"- Send meeting minutes (Christian)\",\n",
    "    \"Meeting Notes:\",\n",
    "    \"- Jessica findings: Airliners are spending more money on safety.\",\n",
    "    \"- Bryan findings: Northwest was the first to introduce personalize IFE in 1988.\",\n",
    "    \"- Linda findings: Virgin America Red IFE systems introduced in 2007 set the pace for future innovation of the industry. Great timeline idea.\",\n",
    "    \"- Mike database progress: Created new tables and many relationships between Airliners, Suppliers, Hardware and Software.\"\n",
    "\n",
    "]\n",
    "\n",
    "for detail in meeting_details:\n",
    "    if detail.startswith(\"- \"):\n",
    "        p = doc.add_paragraph(detail, style='List Bullet')\n",
    "    else:\n",
    "        p = doc.add_paragraph(detail)\n",
    "        p.alignment = 0  # Left align\n",
    "\n",
    "# Save the document\n",
    "doc.save('../output/Meeting_Minutes.docx')"
   ]
  },
  {
   "cell_type": "code",
   "execution_count": null,
   "metadata": {},
   "outputs": [],
   "source": []
  }
 ],
 "metadata": {
  "kernelspec": {
   "display_name": "Python 3",
   "language": "python",
   "name": "python3"
  },
  "language_info": {
   "codemirror_mode": {
    "name": "ipython",
    "version": 3
   },
   "file_extension": ".py",
   "mimetype": "text/x-python",
   "name": "python",
   "nbconvert_exporter": "python",
   "pygments_lexer": "ipython3",
   "version": "3.11.3"
  }
 },
 "nbformat": 4,
 "nbformat_minor": 2
}
